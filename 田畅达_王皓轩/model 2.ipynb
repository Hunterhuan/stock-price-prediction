{
 "cells": [
  {
   "cell_type": "code",
   "execution_count": null,
   "metadata": {},
   "outputs": [],
   "source": [
    "import numpy as np\n",
    "import matplotlib.pyplot as plt\n",
    "import pandas as pd\n",
    "import time\n",
    "from sklearn.preprocessing import MinMaxScaler\n",
    "from keras.models import Sequential\n",
    "from keras.layers import Dense,Flatten\n",
    "from keras.layers import LSTM\n",
    "from keras.layers import Dropout\n",
    "from keras.layers.convolutional import Conv2D,MaxPooling2D\n",
    "from keras.models import load_model"
   ]
  },
  {
   "cell_type": "code",
   "execution_count": null,
   "metadata": {},
   "outputs": [],
   "source": [
    "dataset_train = pd.read_csv(\"train_data.csv\")\n",
    "Date = dataset_train.iloc[:,1:2].values\n",
    "Time = dataset_train.iloc[:,2:3].values\n",
    "MidPrice = dataset_train.iloc[:,3:4].values\n",
    "LastPrice = dataset_train.iloc[:,4:5].values\n",
    "Volume = dataset_train.iloc[:,5:6].values\n",
    "BidPrice1 = dataset_train.iloc[:,6:7].values\n",
    "BidVolume1 = dataset_train.iloc[:,7:8].values\n",
    "AskPrice1 = dataset_train.iloc[:,8:9].values\n",
    "AskVolume1 = dataset_train.iloc[:,9:10].values"
   ]
  },
  {
   "cell_type": "code",
   "execution_count": null,
   "metadata": {},
   "outputs": [],
   "source": [
    "DVolume = Volume.copy()\n",
    "for i in range(1,len(Volume)):\n",
    "    DVolume[i] = Volume[i]- Volume[i-1]\n",
    "DVolume[0] = DVolume[1]\n",
    "DBidVolume1 = BidVolume1.copy()\n",
    "for i in range(1,len(BidVolume1)):\n",
    "    DBidVolume1[i] = BidVolume1[i] - BidVolume1[i-1]\n",
    "DBidVolume1[0] = DBidVolume1[1]\n",
    "DAskVolume1 = AskVolume1.copy()\n",
    "for i in range(1,len(AskVolume1)):\n",
    "    DAskVolume1[i] = AskVolume1[i] - AskVolume1[i-1]\n",
    "DAskVolume1[0] = DAskVolume1[1]\n"
   ]
  },
  {
   "cell_type": "code",
   "execution_count": null,
   "metadata": {},
   "outputs": [],
   "source": [
    "RTime = Time.copy()\n",
    "timeArray = []\n",
    "for i in range(len(Time)):\n",
    "    time_s = Date[i][0] + ' ' + Time[i][0]\n",
    "    timeArray.append(time.strptime(time_s,'%Y-%m-%d %H:%M:%S'))\n",
    "print(timeArray)\n",
    "for i in range(1,len(Time)):\n",
    "    RTime[i] = int(time.mktime(timeArray[i]))\n",
    "RTime[0] = RTime[1]-3\n",
    "RTime"
   ]
  },
  {
   "cell_type": "code",
   "execution_count": null,
   "metadata": {},
   "outputs": [],
   "source": [
    "def zscore(arr):\n",
    "    u = arr.mean()\n",
    "    sig = arr.std()\n",
    "    res = np.copy(arr)\n",
    "    for i in range(len(arr)):\n",
    "        res[i] = (arr[i]-u)/sig\n",
    "    return res,u,sig\n",
    "\n",
    "def rev_zscore(arr,u,sig):\n",
    "    res = np.copy(arr)\n",
    "    for i in range(len(arr)):\n",
    "        res[i] = arr[i]*sig + u\n",
    "    return res"
   ]
  },
  {
   "cell_type": "code",
   "execution_count": null,
   "metadata": {},
   "outputs": [],
   "source": [
    "LastPrice_scaled,LPu,LPsig = zscore(LastPrice)\n",
    "BidPrice1_scaled,BP1u,BP1sig = zscore(BidPrice1)\n",
    "AskPrice1_scaled,AP1u,AP1sig = zscore(AskPrice1)\n",
    "DVolume_scaled,DVu,DVsig = zscore(DVolume)\n",
    "DBidVolume1_scaled,BV1u,BV1sig = zscore(DBidVolume1)\n",
    "DAskVolume1_scaled,AV1u,AV1sig = zscore(DAskVolume1)\n",
    "MidPrice_scaled,MPu,MPsig = zscore(MidPrice)"
   ]
  },
  {
   "cell_type": "code",
   "execution_count": null,
   "metadata": {},
   "outputs": [],
   "source": [
    "X_train = []\n",
    "y_train = []\n",
    "\n",
    "for i in range(10,len(DVolume_scaled)-20,4):\n",
    "    if RTime[i+20] - RTime[i] != 60:\n",
    "        continue\n",
    "    tem_loader = np.array([])\n",
    "    tem_loader = np.append(tem_loader,LastPrice_scaled[i-10:i,0])\n",
    "    tem_loader = np.append(tem_loader,DVolume_scaled[i-10:i,0])\n",
    "    tem_loader = np.append(tem_loader,DBidVolume1_scaled[i-10:i,0])\n",
    "    tem_loader = np.append(tem_loader,DAskVolume1_scaled[i-10:i,0])\n",
    "    tem_loader = np.append(tem_loader,BidPrice1_scaled[i-10:i,0])\n",
    "    tem_loader = np.append(tem_loader,AskPrice1_scaled[i-10:i,0])\n",
    "    X_train.append(tem_loader)\n",
    "    y_train.append(MidPrice[i:i+20,0].mean()-MidPrice[i-1])\n",
    "X_train,y_train = np.array(X_train),np.array(y_train)"
   ]
  },
  {
   "cell_type": "code",
   "execution_count": null,
   "metadata": {},
   "outputs": [],
   "source": [
    "X_train = X_train.astype(np.float32)\n",
    "y_train = y_train.astype(np.float32)\n",
    "y_train,ytu,ytsig = zscore(y_train)"
   ]
  },
  {
   "cell_type": "code",
   "execution_count": null,
   "metadata": {},
   "outputs": [],
   "source": [
    "X_train_cnn = np.reshape(X_train,(X_train.shape[0],10,6,1))"
   ]
  },
  {
   "cell_type": "code",
   "execution_count": null,
   "metadata": {},
   "outputs": [],
   "source": [
    "regressor_cnn = Sequential()\n",
    "regressor_cnn.add(Conv2D(filters=32,kernel_size = (3,3),strides=(1,1),padding='same',input_shape=(X_train_cnn.shape[1],X_train_cnn.shape[2],1),activation='relu'))\n",
    "regressor_cnn.add(MaxPooling2D(pool_size=(2,2)))"
   ]
  },
  {
   "cell_type": "code",
   "execution_count": null,
   "metadata": {},
   "outputs": [],
   "source": [
    "y_2nd = np.array(y_2nd)\n",
    "y_2nd.shape\n",
    "y_2nd = np.reshape(y_2nd, (79312, 15, 32))\n",
    "print(y_2nd.shape)\n",
    "print(X_train.shape)\n",
    "X_train = np.reshape(X_train,(-1,15,4))\n",
    "X_train.shape\n",
    "X_train = np.concatenate((X_train,y_2nd),axis=2)\n",
    "X_train.shape"
   ]
  },
  {
   "cell_type": "code",
   "execution_count": null,
   "metadata": {},
   "outputs": [],
   "source": [
    "regressor_lstm = Sequential()\n",
    "regressor_lstm.add(LSTM(units=128,return_sequences=True,input_shape=(X_train.shape[1],X_train.shape[2])))\n",
    "regressor_lstm.add(Dropout(0.15))\n",
    "regressor_lstm.add(LSTM(units=128,return_sequences=True))\n",
    "regressor_lstm.add(Dropout(0.15))\n",
    "regressor_lstm.add(LSTM(units=128))\n",
    "regressor_lstm.add(Dropout(0.2))\n",
    "regressor_lstm.add(Dense(128,activation='relu'))\n",
    "regressor_lstm.add(Dense(128,activation='relu'))\n",
    "regressor_lstm.add(Dense(units=1))\n",
    "regressor_lstm.compile(optimizer = 'Adam',loss='mean_squared_error')\n",
    "regressor_lstm.fit(X_train,y_train,epochs=50,batch_size=32)"
   ]
  },
  {
   "cell_type": "code",
   "execution_count": null,
   "metadata": {},
   "outputs": [],
   "source": [
    "dataset_test = pd.read_csv('test_data.csv')\n",
    "MidPrice_test = dataset_test.iloc[:,3:4].values\n",
    "LastPrice_test = dataset_test.iloc[:,4:5].values\n",
    "Volume_test = dataset_test.iloc[:,5:6].values\n",
    "BidPrice1_test = dataset_test.iloc[:,6:7].values\n",
    "BidVolume1_test = dataset_test.iloc[:,7:8].values\n",
    "AskPrice1_test = dataset_test.iloc[:,8:9].values\n",
    "AskVolume1_test = dataset_test.iloc[:,9:10].values"
   ]
  },
  {
   "cell_type": "code",
   "execution_count": null,
   "metadata": {},
   "outputs": [],
   "source": [
    "DVolume_test = Volume_test.copy()\n",
    "for i in range(1,len(Volume_test)):\n",
    "    DVolume_test[i] = Volume_test[i]- Volume_test[i-1]\n",
    "DVolume_test[0] = DVolume_test[1]\n",
    "\n",
    "DBidVolume1_test = BidVolume1_test.copy()\n",
    "for i in range(1,len(BidVolume1_test)):\n",
    "    DBidVolume1_test[i] = BidVolume1_test[i] - BidVolume1_test[i-1]\n",
    "DBidVolume1_test[0] = DBidVolume1_test[1]\n",
    "DAskVolume1_test = AskVolume1_test.copy()\n",
    "for i in range(1,len(AskVolume1_test)):\n",
    "    DAskVolume1_test[i] = AskVolume1_test[i] - AskVolume1_test[i-1]\n",
    "DAskVolume1_test[0] = DAskVolume1_test[1]"
   ]
  },
  {
   "cell_type": "code",
   "execution_count": null,
   "metadata": {},
   "outputs": [],
   "source": [
    "LastPrice_test_scaled,LPu,LPsig = zscore(LastPrice_test)\n",
    "BidPrice1_test_scaled,BP1u,BP1sig = zscore(BidPrice1_test)\n",
    "AskPrice1_test_scaled,AP1u,AP1sig = zscore(AskPrice1_test)\n",
    "DVolume_test_scaled,DVu,DVsig = zscore(DVolume_test)\n",
    "DBidVolume1_test_scaled,BV1u,BV1sig = zscore(DBidVolume1_test)\n",
    "DAskVolume1_test_scaled,AV1u,AV1sig = zscore(DAskVolume1_test)\n",
    "MidPrice_test_scaled,MPu,MPsig = zscore(MidPrice_test)"
   ]
  },
  {
   "cell_type": "code",
   "execution_count": null,
   "metadata": {},
   "outputs": [],
   "source": [
    "X_test = []\n",
    "y_rec = []\n",
    "for i in range(len(MidPrice_test) // 10):\n",
    "    tem_loader = np.array([])\n",
    "    tem_loader = np.append(tem_loader,LastPrice_test_scaled[i*10:(i+1)*10])\n",
    "    tem_loader = np.append(tem_loader,DVolume_test_scaled[i*10:(i+1)*10])\n",
    "    tem_loader = np.append(tem_loader,DBidVolume1_test_scaled[i*10:(i+1)*10])\n",
    "    tem_loader = np.append(tem_loader,DAskVolume1_test_scaled[i*10:(i+1)*10])\n",
    "    tem_loader = np.append(tem_loader,BidPrice1_test_scaled[i*10:(i+1)*10])\n",
    "    tem_loader = np.append(tem_loader,AskPrice1_test_scaled[i*10:(i+1)*10])\n",
    "    X_test.append(tem_loader)\n",
    "    print(MidPrice_test[i*10+9])\n",
    "    y_rec.append(MidPrice_test[i*10+9])\n",
    "\n",
    "X_test = np.array(X_test)"
   ]
  },
  {
   "cell_type": "code",
   "execution_count": null,
   "metadata": {},
   "outputs": [],
   "source": [
    "X_test_cnn = np.reshape(X_test,(X_test.shape[0],10,6,1))\n",
    "y_2nd_test = regressor_cnn.predict(X_test_cnn)\n",
    "y_2nd_test = np.reshape(y_2nd_test, (1000, 15, 32))\n",
    "X_test_cnn = np.reshape(X_test_cnn,(-1,15,4))\n",
    "\n",
    "X_test = np.concatenate((X_test_cnn,y_2nd_test),axis=2)\n",
    "y_test = regressor_lstm.predict(X_test)\n",
    "y_test = rev_zscore(y_test,ytu,ytsig)\n",
    "\n",
    "y_test = y_rec+y_test\n",
    "y_test"
   ]
  },
  {
   "cell_type": "code",
   "execution_count": null,
   "metadata": {},
   "outputs": [],
   "source": [
    "num_id = []\n",
    "mid_price = []\n",
    "for i,j in enumerate(y_test):\n",
    "    num_id.append(i)\n",
    "    mid_price.append(j[0])\n",
    "datafm = pd.DataFrame({'mid_price':mid_price})\n",
    "print(datafm)\n",
    "datafm.to_csv('res0.csv',index = False,sep = ' ')"
   ]
  },
  {
   "cell_type": "code",
   "execution_count": null,
   "metadata": {},
   "outputs": [],
   "source": []
  }
 ],
 "metadata": {
  "kernelspec": {
   "display_name": "Python 3",
   "language": "python",
   "name": "python3"
  },
  "language_info": {
   "codemirror_mode": {
    "name": "ipython",
    "version": 3
   },
   "file_extension": ".py",
   "mimetype": "text/x-python",
   "name": "python",
   "nbconvert_exporter": "python",
   "pygments_lexer": "ipython3",
   "version": "3.5.6"
  }
 },
 "nbformat": 4,
 "nbformat_minor": 2
}
