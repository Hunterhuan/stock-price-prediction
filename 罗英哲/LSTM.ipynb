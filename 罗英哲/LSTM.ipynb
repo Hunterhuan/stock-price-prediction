{
 "cells": [
  {
   "cell_type": "code",
   "execution_count": 110,
   "metadata": {
    "collapsed": false
   },
   "outputs": [],
   "source": [
    "import pandas as pd\n",
    "import numpy as np\n",
    "import matplotlib.pyplot as plt\n",
    "import tensorflow as tf\n",
    "import math\n",
    "tf.reset_default_graph()\n",
    "\n",
    "rnn_unit=32\n",
    "lstm_layers=2     \n",
    "input_size=40\n",
    "output_size=1\n",
    "lr=0.001        \n",
    "\n",
    "f=open('train_data.csv')\n",
    "df=pd.read_csv(f)    \n",
    "train=df.iloc[:,3:10].values  \n",
    "volume=df.iloc[:,5].values\n",
    "train = np.delete(train,2,axis = 1)\n",
    "train = np.delete(train,2,axis = 1)\n",
    "train = np.delete(train,3,axis = 1)\n",
    "for i in range(len(train)):\n",
    "    train[i][2] = math.log(train[i][2]/train[i][3],10)\n",
    "    if i > 0:\n",
    "        train[i][1] = train[i][1]-train[i-1][1]\n",
    "    else:\n",
    "        train[i][1] = 0\n",
    "    train[i][3] = math.log(volume[i],10)\n",
    "f2=open('test_data.csv')\n",
    "df2=pd.read_csv(f2)\n",
    "test=df2.iloc[:,3:10].values\n",
    "test = np.delete(test,2,axis = 1)\n",
    "test = np.delete(test,2,axis = 1)\n",
    "test = np.delete(test,3,axis = 1)\n",
    "volume_test=df2.iloc[:,5].values\n",
    "for i in range(len(test)):\n",
    "    test[i][2] = math.log(test[i][2]/test[i][3],10)\n",
    "    if i > 0:\n",
    "        test[i][1] = test[i][1]-test[i-1][1]\n",
    "    else:\n",
    "        test[i][1] = 0\n",
    "    test[i][3] = math.log(volume_test[i],10)\n",
    "train_date = df.iloc[:,1].values"
   ]
  },
  {
   "cell_type": "code",
   "execution_count": 111,
   "metadata": {
    "collapsed": true
   },
   "outputs": [],
   "source": [
    "def get_train_data(batch_size = 2000, time_step = 1):\n",
    "    batch_index=[]\n",
    "    normalized_train_data=(train-train_mean)/train_std  #标准化\n",
    "    train_x,train_y=[],[]   #训练集\n",
    "    i = 0\n",
    "    j = 0\n",
    "    while(i < len(normalized_train_data)-time_step-30):\n",
    "        if train_date[i] != train_date[i+29]:\n",
    "            i += 29\n",
    "        if j % batch_size == 0:\n",
    "            batch_index.append(j)\n",
    "        x = np.reshape(normalized_train_data[i:i+10,:4],[1,40])\n",
    "        y = np.reshape(np.mean(normalized_train_data[i+10:i+30,0]),[1,1])\n",
    "        now = x[0][36]\n",
    "        goal = y[0][0]\n",
    "        dif = goal - now\n",
    "        dif = np.reshape(dif,[1,1])\n",
    "        train_x.append(x.tolist())\n",
    "        train_y.append(dif.tolist())\n",
    "        i += 1\n",
    "        j += 1\n",
    "    batch_index.append(j-30-time_step-1)\n",
    "    return batch_index,train_x,train_y"
   ]
  },
  {
   "cell_type": "code",
   "execution_count": 112,
   "metadata": {
    "collapsed": true
   },
   "outputs": [],
   "source": [
    "def get_test_data(time_step=1):\n",
    "    normalized_test_data=(test-test_mean)/test_std  #标准化\n",
    "    test_x = []\n",
    "    for i in range(1000):\n",
    "        x=np.reshape(normalized_test_data[i*10:(i+1)*10,:4],[1,40])\n",
    "        test_x.append(x.tolist())\n",
    "    return test_x"
   ]
  },
  {
   "cell_type": "code",
   "execution_count": 113,
   "metadata": {
    "collapsed": true
   },
   "outputs": [],
   "source": [
    "def get_test_data2(time_step=1):\n",
    "    normalized_test_data=(train-train_mean)/train_std  #标准化\n",
    "    test_x = []\n",
    "    for i in range(40000):\n",
    "        x=np.reshape(normalized_test_data[i*10:(i+1)*10,:4],[1,40])\n",
    "        test_x.append(x.tolist())\n",
    "    return test_x"
   ]
  },
  {
   "cell_type": "code",
   "execution_count": 114,
   "metadata": {
    "collapsed": true
   },
   "outputs": [],
   "source": [
    "weights={\n",
    "         'in':tf.Variable(tf.random_normal([input_size,rnn_unit])),\n",
    "         'out':tf.Variable(tf.random_normal([rnn_unit,1]))\n",
    "        }\n",
    "biases={\n",
    "        'in':tf.Variable(tf.constant(0.1,shape=[rnn_unit,])),\n",
    "        'out':tf.Variable(tf.constant(0.1,shape=[1,]))\n",
    "       }\n",
    "keep_prob = tf.placeholder(tf.float32, name='keep_prob') "
   ]
  },
  {
   "cell_type": "code",
   "execution_count": 115,
   "metadata": {
    "collapsed": true
   },
   "outputs": [],
   "source": [
    "def lstmCell():\n",
    "    #basicLstm单元\n",
    "    basicLstm = tf.nn.rnn_cell.BasicLSTMCell(rnn_unit)\n",
    "    # dropout\n",
    "    drop = tf.nn.rnn_cell.DropoutWrapper(basicLstm, output_keep_prob=keep_prob)\n",
    "    return basicLstm"
   ]
  },
  {
   "cell_type": "code",
   "execution_count": 116,
   "metadata": {
    "collapsed": true
   },
   "outputs": [],
   "source": [
    "train_mean = np.mean(train,axis = 0)\n",
    "train_std = np.std(train,axis = 0)\n",
    "test_mean = np.mean(test,axis = 0)\n",
    "test_std = np.std(test,axis = 0)"
   ]
  },
  {
   "cell_type": "code",
   "execution_count": 117,
   "metadata": {
    "collapsed": true
   },
   "outputs": [],
   "source": [
    "def lstm(X):\n",
    "    \n",
    "    batch_size=tf.shape(X)[0]\n",
    "    time_step=tf.shape(X)[1]\n",
    "    w_in=weights['in']\n",
    "    b_in=biases['in']\n",
    "    input=tf.reshape(X,[-1,input_size])  #需要将tensor转成2维进行计算，计算后的结果作为隐藏层的输入\n",
    "    input_rnn=tf.matmul(input,w_in)+b_in\n",
    "    input_rnn=tf.reshape(input_rnn,[-1,time_step,rnn_unit])  #将tensor转成3维，作为lstm cell的输入\n",
    "    cell = tf.nn.rnn_cell.MultiRNNCell([lstmCell() for i in range(lstm_layers)])\n",
    "    init_state=cell.zero_state(batch_size,dtype=tf.float32)\n",
    "    output_rnn,final_states=tf.nn.dynamic_rnn(cell, input_rnn,initial_state=init_state, dtype=tf.float32)\n",
    "    output=tf.reshape(output_rnn,[-1,rnn_unit]) \n",
    "    w_out=weights['out']\n",
    "    b_out=biases['out']\n",
    "    pred=tf.matmul(output,w_out)+b_out\n",
    "    return pred,final_states"
   ]
  },
  {
   "cell_type": "code",
   "execution_count": 118,
   "metadata": {
    "collapsed": false
   },
   "outputs": [
    {
     "name": "stdout",
     "output_type": "stream",
     "text": [
      "Number of iterations: 0  loss: 0.00023751889\n",
      "Number of iterations: 1  loss: 0.0001182758\n",
      "Number of iterations: 2  loss: 9.2945236e-05\n",
      "Number of iterations: 3  loss: 8.270611e-05\n",
      "Number of iterations: 4  loss: 7.727167e-05\n",
      "Number of iterations: 5  loss: 7.4577765e-05\n",
      "Number of iterations: 6  loss: 7.3959614e-05\n",
      "Number of iterations: 7  loss: 7.45029e-05\n",
      "Number of iterations: 8  loss: 7.486249e-05\n",
      "Number of iterations: 9  loss: 7.444311e-05\n",
      "Number of iterations: 10  loss: 7.376858e-05\n",
      "Number of iterations: 11  loss: 7.322986e-05\n",
      "Number of iterations: 12  loss: 7.284465e-05\n",
      "Number of iterations: 13  loss: 7.2460425e-05\n",
      "Number of iterations: 14  loss: 7.1964176e-05\n",
      "Number of iterations: 15  loss: 7.137222e-05\n",
      "Number of iterations: 16  loss: 7.060538e-05\n",
      "Number of iterations: 17  loss: 6.956339e-05\n",
      "Number of iterations: 18  loss: 6.83818e-05\n",
      "Number of iterations: 19  loss: 6.763967e-05\n",
      "Number of iterations: 20  loss: 6.782424e-05\n",
      "Number of iterations: 21  loss: 6.833503e-05\n",
      "Number of iterations: 22  loss: 6.85879e-05\n",
      "Number of iterations: 23  loss: 6.847295e-05\n",
      "Number of iterations: 24  loss: 6.818501e-05\n",
      "Number of iterations: 25  loss: 6.811626e-05\n",
      "Number of iterations: 26  loss: 6.8398986e-05\n",
      "Number of iterations: 27  loss: 6.888225e-05\n",
      "Number of iterations: 28  loss: 6.956034e-05\n",
      "Number of iterations: 29  loss: 7.060725e-05\n",
      "Number of iterations: 30  loss: 7.1709976e-05\n",
      "Number of iterations: 31  loss: 7.272103e-05\n",
      "Number of iterations: 32  loss: 7.350949e-05\n",
      "Number of iterations: 33  loss: 7.4572374e-05\n",
      "Number of iterations: 34  loss: 7.700868e-05\n",
      "Number of iterations: 35  loss: 8.019341e-05\n",
      "Number of iterations: 36  loss: 7.9954436e-05\n",
      "Number of iterations: 37  loss: 7.91976e-05\n",
      "Number of iterations: 38  loss: 7.96144e-05\n",
      "Number of iterations: 39  loss: 7.501069e-05\n",
      "Number of iterations: 40  loss: 7.328813e-05\n",
      "Number of iterations: 41  loss: 6.7399305e-05\n",
      "Number of iterations: 42  loss: 6.708127e-05\n",
      "Number of iterations: 43  loss: 6.6627086e-05\n",
      "Number of iterations: 44  loss: 6.6309614e-05\n",
      "Number of iterations: 45  loss: 6.690756e-05\n",
      "Number of iterations: 46  loss: 6.7297464e-05\n",
      "Number of iterations: 47  loss: 6.625131e-05\n",
      "Number of iterations: 48  loss: 6.7837085e-05\n",
      "Number of iterations: 49  loss: 6.6499604e-05\n",
      "Number of iterations: 50  loss: 6.624248e-05\n",
      "Number of iterations: 51  loss: 6.57707e-05\n",
      "Number of iterations: 52  loss: 6.722009e-05\n",
      "Number of iterations: 53  loss: 6.770041e-05\n",
      "Number of iterations: 54  loss: 6.888747e-05\n",
      "Number of iterations: 55  loss: 6.121575e-05\n",
      "Number of iterations: 56  loss: 6.4030704e-05\n",
      "Number of iterations: 57  loss: 6.4504784e-05\n",
      "Number of iterations: 58  loss: 6.267465e-05\n",
      "Number of iterations: 59  loss: 6.1210296e-05\n",
      "Number of iterations: 60  loss: 6.232476e-05\n",
      "Number of iterations: 61  loss: 6.236182e-05\n",
      "Number of iterations: 62  loss: 6.177605e-05\n",
      "Number of iterations: 63  loss: 6.280767e-05\n",
      "Number of iterations: 64  loss: 6.150384e-05\n",
      "Number of iterations: 65  loss: 6.269717e-05\n",
      "Number of iterations: 66  loss: 6.152903e-05\n",
      "Number of iterations: 67  loss: 6.3056184e-05\n",
      "Number of iterations: 68  loss: 6.407981e-05\n",
      "Number of iterations: 69  loss: 6.181871e-05\n",
      "Number of iterations: 70  loss: 6.0334085e-05\n",
      "Number of iterations: 71  loss: 5.92397e-05\n",
      "Number of iterations: 72  loss: 6.2654384e-05\n",
      "Number of iterations: 73  loss: 6.1306266e-05\n",
      "Number of iterations: 74  loss: 6.132802e-05\n",
      "Number of iterations: 75  loss: 5.9600094e-05\n",
      "Number of iterations: 76  loss: 6.090891e-05\n",
      "Number of iterations: 77  loss: 5.9450496e-05\n",
      "Number of iterations: 78  loss: 6.247587e-05\n",
      "Number of iterations: 79  loss: 5.8876714e-05\n",
      "Number of iterations: 80  loss: 5.8992104e-05\n",
      "Number of iterations: 81  loss: 5.7661156e-05\n",
      "Number of iterations: 82  loss: 5.8541074e-05\n",
      "Number of iterations: 83  loss: 6.0275055e-05\n",
      "Number of iterations: 84  loss: 6.05096e-05\n",
      "Number of iterations: 85  loss: 6.051737e-05\n",
      "Number of iterations: 86  loss: 6.0460177e-05\n",
      "Number of iterations: 87  loss: 5.973516e-05\n",
      "Number of iterations: 88  loss: 5.9332848e-05\n",
      "Number of iterations: 89  loss: 5.918204e-05\n",
      "Number of iterations: 90  loss: 5.9303104e-05\n",
      "Number of iterations: 91  loss: 5.9429105e-05\n",
      "Number of iterations: 92  loss: 5.9420574e-05\n",
      "Number of iterations: 93  loss: 5.977563e-05\n",
      "Number of iterations: 94  loss: 5.9757338e-05\n",
      "Number of iterations: 95  loss: 5.9838185e-05\n",
      "Number of iterations: 96  loss: 5.9816575e-05\n",
      "Number of iterations: 97  loss: 5.968459e-05\n",
      "Number of iterations: 98  loss: 5.965031e-05\n",
      "Number of iterations: 99  loss: 5.9476486e-05\n",
      "model_save:  model_save2\\modle.ckpt\n",
      "The train has finished\n"
     ]
    }
   ],
   "source": [
    "def train_lstm(batch_size=2000,time_step=1):\n",
    "    X=tf.placeholder(tf.float32, shape=[None,time_step,input_size])\n",
    "    Y=tf.placeholder(tf.float32, shape=[None,time_step,output_size])\n",
    "    batch_index,train_x,train_y=get_train_data(batch_size,time_step)\n",
    "    with tf.variable_scope(\"sec_lstm\"):\n",
    "        pred,_=lstm(X)\n",
    "    loss=tf.reduce_mean(tf.square(tf.reshape(pred,[-1])-tf.reshape(Y, [-1])))\n",
    "    train_op=tf.train.AdamOptimizer(lr).minimize(loss)\n",
    "    saver=tf.train.Saver(tf.global_variables(),max_to_keep=15)\n",
    "\n",
    "    with tf.Session() as sess:\n",
    "        sess.run(tf.global_variables_initializer())\n",
    "        for i in range(100):     \n",
    "            for step in range(len(batch_index)-2):\n",
    "                _,loss_=sess.run([train_op,loss],feed_dict={X:train_x[batch_index[step]:batch_index[step+1]],Y:train_y[batch_index[step]:batch_index[step+1]],keep_prob:0.5})\n",
    "            print(\"Number of iterations:\",i,\" loss:\",loss_)\n",
    "        print(\"model_save: \",saver.save(sess,'model_save2\\\\modle.ckpt'))\n",
    "        print(\"The train has finished\")\n",
    "train_lstm()"
   ]
  },
  {
   "cell_type": "code",
   "execution_count": 173,
   "metadata": {
    "collapsed": false
   },
   "outputs": [
    {
     "name": "stdout",
     "output_type": "stream",
     "text": [
      "INFO:tensorflow:Restoring parameters from model_save2\\modle.ckpt\n"
     ]
    },
    {
     "data": {
      "image/png": "[encoded data removed]",
      "text/plain": [
       "<matplotlib.figure.Figure at 0x2302f2fe198>"
      ]
     },
     "metadata": {},
     "output_type": "display_data"
    }
   ],
   "source": [
    "def prediction(time_step=1):\n",
    "    X=tf.placeholder(tf.float32, shape=[None,time_step,input_size])\n",
    "    test_x=get_test_data(time_step)\n",
    "    with tf.variable_scope(\"sec_lstm\",reuse=tf.AUTO_REUSE):\n",
    "        pred,_=lstm(X)\n",
    "    saver=tf.train.Saver(tf.global_variables())\n",
    "    with tf.Session() as sess:\n",
    "        #参数恢复\n",
    "        module_file = tf.train.latest_checkpoint('model_save2')\n",
    "        saver.restore(sess, module_file)\n",
    "        test_predict=[]\n",
    "        for step in range(len(test_x)):\n",
    "            prob=sess.run(pred,feed_dict={X:[test_x[step]],keep_prob:1})\n",
    "            predict=prob.reshape((-1))\n",
    "            test_predict.extend(predict)\n",
    "        big = test_predict\n",
    "        for i in range(len(test_predict)):\n",
    "            test_predict[i] = ((test_x[i][0][36]+test_predict[i]*0.5)*test_std[0]+test_mean[0])\n",
    "        test_predict = np.array(test_predict)\n",
    "        xx = []\n",
    "        for i in range(len(test_predict)):\n",
    "            xx.append(i)\n",
    "            if abs(test_predict[i] - (test_x[i][0][36]*test_std[0]+test_mean[0])) > 0.002:\n",
    "                test_predict[i] = (test_x[i][0][36]*test_std[0]+test_mean[0])*0.95+test_predict[i]*0.05\n",
    "        plt.figure()\n",
    "        plt.plot(xx, test_predict, color='b')\n",
    "        plt.show()\n",
    "    return test_predict,big\n",
    "\n",
    "ans,big= prediction()"
   ]
  },
  {
   "cell_type": "code",
   "execution_count": 155,
   "metadata": {
    "collapsed": false
   },
   "outputs": [],
   "source": [
    "import csv\n",
    "data = []\n",
    "for i in range(142,1000):\n",
    "    temp = []\n",
    "    temp.append(i+1)\n",
    "    temp.append(ans[i])\n",
    "    data.append(temp)\n",
    "with open('ans.csv','w',newline='') as csv_file:\n",
    "    csv_writer = csv.writer(csv_file)\n",
    "    csv_writer.writerow(['caseid','midprice'])\n",
    "    for list in data:\n",
    "        csv_writer.writerow(list)"
   ]
  },
  {
   "cell_type": "code",
   "execution_count": null,
   "metadata": {
    "collapsed": true
   },
   "outputs": [],
   "source": []
  }
 ],
 "metadata": {
  "anaconda-cloud": {},
  "kernelspec": {
   "display_name": "Python [conda root]",
   "language": "python",
   "name": "conda-root-py"
  },
  "language_info": {
   "codemirror_mode": {
    "name": "ipython",
    "version": 3
   },
   "file_extension": ".py",
   "mimetype": "text/x-python",
   "name": "python",
   "nbconvert_exporter": "python",
   "pygments_lexer": "ipython3",
   "version": "3.5.2"
  }
 },
 "nbformat": 4,
 "nbformat_minor": 1
}
