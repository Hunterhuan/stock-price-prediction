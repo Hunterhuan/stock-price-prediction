{
  "cells": [
    {
      "metadata": {
        "_uuid": "8f2839f25d086af736a60e9eeb907d3b93b6e0e5",
        "_cell_guid": "b1076dfc-b9ad-4769-8c92-a6c4dae69d19",
        "trusted": true
      },
      "cell_type": "code",
      "source": "# This Python 3 environment comes with many helpful analytics libraries installed\n# It is defined by the kaggle/python docker image: https://github.com/kaggle/docker-python\n# For example, here's several helpful packages to load in \n\nimport numpy as np # linear algebra\nimport pandas as pd # data processing, CSV file I/O (e.g. pd.read_csv)\n\n# Input data files are available in the \"../input/\" directory.\n# For example, running this (by clicking run or pressing Shift+Enter) will list the files in the input directory\n\nimport os\nprint(os.listdir(\"../input\"))\n\n# Any results you write to the current directory are saved as output.",
      "execution_count": null,
      "outputs": []
    },
    {
      "metadata": {
        "_cell_guid": "79c7e3d0-c299-4dcb-8224-4455121ee9b0",
        "_uuid": "d629ff2d2480ee46fbb7e2d37f6b5fab8052498a",
        "trusted": true
      },
      "cell_type": "code",
      "source": "# load data\ndataset = pd.read_csv('../input/train_data.csv')\ndataset.head ",
      "execution_count": null,
      "outputs": []
    },
    {
      "metadata": {
        "trusted": true,
        "_uuid": "5fbe0532bca6bc6f8ab1ace1c2cc1a5db0bc2080"
      },
      "cell_type": "code",
      "source": "import featuretools as ft\nimport matplotlib.pyplot as plt\nvolume_head = ['BidVolume1','AskVolume1']\n\ni = 0\nprint(i)\nX = []\nY = []\nwhile (i < len(dataset)-30):\n    if (dataset['Date'].iloc[i]!=dataset['Date'].iloc[i+30]):\n        i = i+30\n    else:\n        x_item = np.array(dataset[volume_head].iloc[i:i+10])\n        x_item = x_item.reshape(20).tolist()\n        X.append(x_item)\n#         print(x_item)\n        y_item = sum(dataset['MidPrice'].iloc[i+10:i+30]) / 20 - dataset['MidPrice'].iloc[i+9]\n        Y.append(y_item)\n        i = i+10\nprint(len(X))\nprint(len(Y))",
      "execution_count": null,
      "outputs": []
    },
    {
      "metadata": {
        "trusted": true,
        "_uuid": "c8322e815767228864e80c587f4718ad356dcf90"
      },
      "cell_type": "code",
      "source": "",
      "execution_count": null,
      "outputs": []
    },
    {
      "metadata": {
        "trusted": true,
        "_uuid": "14a6eac10105830ea3341796fb9ac9a4bbc1cf64"
      },
      "cell_type": "code",
      "source": "print(X[0])\nprint(Y[0])",
      "execution_count": null,
      "outputs": []
    },
    {
      "metadata": {
        "trusted": true,
        "_uuid": "46c34ea715f0aeea01e9054141aaac05e23fdf53"
      },
      "cell_type": "code",
      "source": "from sklearn.model_selection import train_test_split\nX_array = np.array(X)\nX_array[:,:]=np.log10(X_array[:,:])\n\nY_array = np.array(Y)\nY_array[:] = Y_array[:] * 100\n\nprint(X_array)\nprint(Y_array)\nseed = 6\ntest_size = 0.0001\nX_train, X_test, y_train, y_test = train_test_split(X_array, Y_array, test_size=test_size, random_state=seed)\n\nplt.hist(y_train)\nplt.hist(y_test)",
      "execution_count": null,
      "outputs": []
    },
    {
      "metadata": {
        "trusted": true,
        "_uuid": "4666e6bc9ffe78e93402c792990d83efe40ab350",
        "scrolled": true
      },
      "cell_type": "code",
      "source": "from keras.layers import Activation, Dropout, Dense\nfrom keras.models import Sequential\n\nmodel = Sequential()\nmodel.add(Dense(512,input_shape = (len(X_train[0]),), activation='tanh'))\n# model.add(Dropout(0.125))\nmodel.add(Dense(128, activation = 'sigmoid'))\n# model.add(Dropout(0.125))\nmodel.add(Dense(16, activation = 'relu'))\nmodel.add(Dense(1, activation = 'tanh'))\nmodel.compile(loss='mse',optimizer = 'adam')\nmodel.summary()",
      "execution_count": null,
      "outputs": []
    },
    {
      "metadata": {
        "trusted": true,
        "scrolled": false,
        "_uuid": "3b4d534c4a223daea55823c3cb0af7b246a57aed"
      },
      "cell_type": "code",
      "source": "model.fit(X_train, y_train, epochs = 30,batch_size = 32)",
      "execution_count": null,
      "outputs": []
    },
    {
      "metadata": {
        "trusted": true,
        "scrolled": true,
        "_uuid": "b5beda6d1bfed18593122de811abeff6fd6cf5f6"
      },
      "cell_type": "code",
      "source": "import math\neval_loss = model.evaluate(x=X_test, y=y_test, batch_size=None, verbose=1, sample_weight=None, steps=None)\nprint(math.sqrt(eval_loss))\nprint(eval_loss, y_test)",
      "execution_count": null,
      "outputs": []
    },
    {
      "metadata": {
        "trusted": true,
        "_uuid": "402fed4899937a4bf901368404b9cb6184d69904"
      },
      "cell_type": "code",
      "source": "test_data = pd.read_csv(\"../input/test_data.csv\")\n\nans_hist = []\nans_list = []\nans_csv = pd.DataFrame(columns=['caseid','midprice'])\nfor i in range(142,1000):\n    standard_price = test_data['MidPrice'].iloc[i*10+9]\n\n    \n    x_item = np.array(test_data[volume_head].iloc[i*10:i*10+10])\n    x_item[:] = np.log10(x_item[:])\n    x_item = x_item.reshape(1,20)\n#     print(x_item)\n#     y_item = sum(dataset['MidPrice'].iloc[i+10:i+30]) / 20 - dataset['MidPrice'].iloc[i+9]\n    y_item = model.predict(x_item)\n    y_ans = y_item[0,0]\n    ans_hist.append(y_ans)\n    ans_list.append(y_ans/100 + standard_price)\n# print(ans_hist)\nplt.hist(ans_hist)\nans_csv.to_csv('data.csv', index = False, index_label = False)\nprint(ans_list)",
      "execution_count": null,
      "outputs": []
    },
    {
      "metadata": {
        "trusted": true,
        "_uuid": "dd5bb2c40390fa59877cbb040e41ffcf285e7861"
      },
      "cell_type": "code",
      "source": "",
      "execution_count": null,
      "outputs": []
    },
    {
      "metadata": {
        "trusted": true,
        "_uuid": "5fcfddcb7d582eb6e40ff8a4b32d22dd7d2f9df6"
      },
      "cell_type": "code",
      "source": "",
      "execution_count": null,
      "outputs": []
    }
  ],
  "metadata": {
    "kernelspec": {
      "display_name": "Python 3",
      "language": "python",
      "name": "python3"
    },
    "language_info": {
      "name": "python",
      "version": "3.6.6",
      "mimetype": "text/x-python",
      "codemirror_mode": {
        "name": "ipython",
        "version": 3
      },
      "pygments_lexer": "ipython3",
      "nbconvert_exporter": "python",
      "file_extension": ".py"
    }
  },
  "nbformat": 4,
  "nbformat_minor": 1
}